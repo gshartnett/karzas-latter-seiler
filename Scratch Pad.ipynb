{
 "cells": [
  {
   "cell_type": "code",
   "execution_count": 1,
   "id": "fa26ae9d",
   "metadata": {},
   "outputs": [],
   "source": [
    "from emp.model import EmpModel"
   ]
  },
  {
   "cell_type": "code",
   "execution_count": 2,
   "id": "ba8a4903",
   "metadata": {},
   "outputs": [],
   "source": [
    "model = EmpModel()"
   ]
  },
  {
   "cell_type": "code",
   "execution_count": 3,
   "id": "ae5f0c67",
   "metadata": {},
   "outputs": [
    {
     "data": {
      "text/plain": [
       "6.248749509463085e-07"
      ]
     },
     "execution_count": 3,
     "metadata": {},
     "output_type": "execute_result"
    }
   ],
   "source": [
    "model.rho_divided_by_rho0(r=0)"
   ]
  },
  {
   "cell_type": "code",
   "execution_count": null,
   "id": "fffba541",
   "metadata": {},
   "outputs": [],
   "source": []
  }
 ],
 "metadata": {
  "kernelspec": {
   "display_name": "karzas",
   "language": "python",
   "name": "python3"
  },
  "language_info": {
   "codemirror_mode": {
    "name": "ipython",
    "version": 3
   },
   "file_extension": ".py",
   "mimetype": "text/x-python",
   "name": "python",
   "nbconvert_exporter": "python",
   "pygments_lexer": "ipython3",
   "version": "3.11.13"
  }
 },
 "nbformat": 4,
 "nbformat_minor": 5
}
